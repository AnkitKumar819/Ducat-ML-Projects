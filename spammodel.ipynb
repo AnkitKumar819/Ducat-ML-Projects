{
 "cells": [
  {
   "cell_type": "code",
   "execution_count": null,
   "id": "1b817d71",
   "metadata": {},
   "outputs": [
    {
     "name": "stdout",
     "output_type": "stream",
     "text": [
      "\n",
      "🔍 Training MultinomialNB...\n",
      "✅ Best Parameters for MultinomialNB: {'clf__alpha': 0.5, 'tfidf__ngram_range': (1, 1)}\n",
      "📊 Cross-validation Accuracy for MultinomialNB: 0.9745\n",
      "📈 Test Accuracy for MultinomialNB: 0.9725\n",
      "🧮 Confusion Matrix:\n",
      "[[1452    1]\n",
      " [  45  174]]\n",
      "\n",
      "🔍 Training LogisticRegression...\n",
      "✅ Best Parameters for LogisticRegression: {'clf__C': 10, 'tfidf__ngram_range': (1, 2)}\n",
      "📊 Cross-validation Accuracy for LogisticRegression: 0.9844\n",
      "📈 Test Accuracy for LogisticRegression: 0.9809\n",
      "🧮 Confusion Matrix:\n",
      "[[1449    4]\n",
      " [  28  191]]\n",
      "\n",
      "✅ Best Model: LogisticRegression with Accuracy: 0.9809\n",
      "💾 Model saved as: spam_ham_model.pkl\n",
      "🧾 Confusion Matrix of Best Model:\n",
      "[[1449    4]\n",
      " [  28  191]]\n"
     ]
    }
   ],
   "source": [
    "import pandas as pd\n",
    "import numpy as np\n",
    "from sklearn.model_selection import train_test_split, GridSearchCV, cross_val_score\n",
    "from sklearn.feature_extraction.text import TfidfVectorizer\n",
    "from sklearn.naive_bayes import MultinomialNB\n",
    "from sklearn.linear_model import LogisticRegression\n",
    "from sklearn.pipeline import Pipeline\n",
    "from sklearn.metrics import confusion_matrix, accuracy_score\n",
    "import joblib\n",
    "\n",
    "# Load SMS Spam Collection Dataset\n",
    "# Make sure to have a dataset file named 'spam.csv' with 'label' and 'message' columns\n",
    "df = pd.read_csv('spam.csv',encoding='latin-1')\n",
    "df = df.drop(['Unnamed: 2','Unnamed: 3','Unnamed: 4'], axis=1)\n",
    "df.columns = ['label', 'message']\n",
    "\n",
    "# Encode labels: 'spam' = 1, 'ham' = 0\n",
    "df['label'] = df['label'].map({'ham': 0, 'spam': 1})\n",
    "df = df.dropna()\n",
    "# Train-test split\n",
    "X_train, X_test, y_train, y_test = train_test_split(df['message'], df['label'], test_size=0.3, random_state=42)\n",
    "\n",
    "# Define models and parameters for GridSearch\n",
    "models = {\n",
    "    'MultinomialNB': {\n",
    "        'pipeline': Pipeline([\n",
    "            ('tfidf', TfidfVectorizer()),\n",
    "            ('clf', MultinomialNB())\n",
    "        ]),\n",
    "        'params': {\n",
    "            'tfidf__ngram_range': [(1, 1), (1, 2)],\n",
    "            'clf__alpha': [0.5, 1.0]\n",
    "        }\n",
    "    },\n",
    "    'LogisticRegression': {\n",
    "        'pipeline': Pipeline([\n",
    "            ('tfidf', TfidfVectorizer()),\n",
    "            ('clf', LogisticRegression(max_iter=200))\n",
    "        ]),\n",
    "        'params': {\n",
    "            'tfidf__ngram_range': [(1, 1), (1, 2)],\n",
    "            'clf__C': [0.1, 1, 10]\n",
    "        }\n",
    "    }\n",
    "}\n",
    "\n",
    "best_model = None\n",
    "best_score = 0\n",
    "best_name = \"\"\n",
    "final_conf_matrix = None\n",
    "\n",
    "# Train and evaluate models\n",
    "for name, mp in models.items():\n",
    "    print(f\"\\n🔍 Training {name}...\")\n",
    "    clf = GridSearchCV(mp['pipeline'], mp['params'], cv=5, scoring='accuracy')\n",
    "    clf.fit(X_train, y_train)\n",
    "\n",
    "    print(f\"✅ Best Parameters for {name}: {clf.best_params_}\")\n",
    "    model = clf.best_estimator_\n",
    "\n",
    "    # Cross-validation accuracy\n",
    "    scores = cross_val_score(model, df['message'], df['label'], cv=5)\n",
    "    print(f\"📊 Cross-validation Accuracy for {name}: {np.mean(scores):.4f}\")\n",
    "\n",
    "    # Evaluate on test data\n",
    "    y_pred = model.predict(X_test)\n",
    "    acc = accuracy_score(y_test, y_pred)\n",
    "    cm = confusion_matrix(y_test, y_pred)\n",
    "\n",
    "    print(f\"📈 Test Accuracy for {name}: {acc:.4f}\")\n",
    "    print(f\"🧮 Confusion Matrix:\\n{cm}\")\n",
    "\n",
    "    if acc > best_score:\n",
    "        best_score = acc\n",
    "        best_model = model\n",
    "        best_name = name\n",
    "        final_conf_matrix = cm\n",
    "\n",
    "# Save best model\n",
    "joblib.dump(best_model, \"spam_ham_model.pkl\")\n",
    "print(f\"\\n✅ Best Model: {best_name} with Accuracy: {best_score:.4f}\")\n",
    "print(f\"💾 Model saved as: spam_ham_model.pkl\")\n",
    "print(f\"🧾 Confusion Matrix of Best Model:\\n{final_conf_matrix}\")\n"
   ]
  },
  {
   "cell_type": "code",
   "execution_count": 10,
   "id": "ca2ab9ca",
   "metadata": {},
   "outputs": [
    {
     "name": "stdout",
     "output_type": "stream",
     "text": [
      "[1]\n"
     ]
    }
   ],
   "source": [
    "spam = joblib.load(\"spam_ham_model.pkl\")\n",
    "pa = \"congrats you have won 100000 dollar\"\n",
    "msg = spam.predict([pa])\n",
    "print(msg)"
   ]
  },
  {
   "cell_type": "code",
   "execution_count": null,
   "id": "67d66181",
   "metadata": {},
   "outputs": [],
   "source": []
  }
 ],
 "metadata": {
  "kernelspec": {
   "display_name": "base",
   "language": "python",
   "name": "python3"
  },
  "language_info": {
   "codemirror_mode": {
    "name": "ipython",
    "version": 3
   },
   "file_extension": ".py",
   "mimetype": "text/x-python",
   "name": "python",
   "nbconvert_exporter": "python",
   "pygments_lexer": "ipython3",
   "version": "3.11.11"
  }
 },
 "nbformat": 4,
 "nbformat_minor": 5
}
